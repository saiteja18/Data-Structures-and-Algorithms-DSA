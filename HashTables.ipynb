{
 "cells": [
  {
   "cell_type": "code",
   "execution_count": 1,
   "id": "e3ec1aee",
   "metadata": {},
   "outputs": [
    {
     "name": "stdout",
     "output_type": "stream",
     "text": [
      "['bolts', 'washers', 'lumber']\n"
     ]
    }
   ],
   "source": [
    "class HashTable:\n",
    "    def __init__(self, size=7):\n",
    "        self.data_map = [None] * size\n",
    "      \n",
    "    def __hash(self, key):\n",
    "        # Hash function to generate a hash value for the given key\n",
    "        my_hash = 0\n",
    "        for letter in key:\n",
    "            my_hash = (my_hash + ord(letter) * 23) % len(self.data_map)\n",
    "        return my_hash  \n",
    "\n",
    "    def print_table(self):\n",
    "        # Method to print the hash table\n",
    "        for i, val in enumerate(self.data_map): \n",
    "            print(i, \": \", val)\n",
    "    \n",
    "    def set_item(self, key, value):\n",
    "        # Method to set an item in the hash table\n",
    "        index = self.__hash(key)\n",
    "        if self.data_map[index] == None:\n",
    "            self.data_map[index] = []\n",
    "        self.data_map[index].append([key, value])\n",
    "    \n",
    "    def get_item(self, key):\n",
    "        # Method to get an item from the hash table\n",
    "        index = self.__hash(key)\n",
    "        if self.data_map[index] is not None:\n",
    "            for i in range(len(self.data_map[index])):\n",
    "                if self.data_map[index][i][0] == key:\n",
    "                    return self.data_map[index][i][1]\n",
    "        return None\n",
    "        \n",
    "    def keys(self):\n",
    "        # Method to get all keys in the hash table\n",
    "        all_keys = []\n",
    "        for i in range(len(self.data_map)):\n",
    "            if self.data_map[i] is not None:\n",
    "                for j in range(len(self.data_map[i])):\n",
    "                    all_keys.append(self.data_map[i][j][0])\n",
    "        return all_keys\n",
    "\n",
    "    def keys(self):\n",
    "        # Method to get all keys in the hash table\n",
    "        all_keys = []\n",
    "        for bucket in self.data_map:\n",
    "            if bucket is not None:\n",
    "                for key, _ in bucket:\n",
    "                    all_keys.append(key)\n",
    "        return all_keys\n",
    "\n",
    "\n",
    "my_hash_table = HashTable()\n",
    "\n",
    "my_hash_table.set_item('bolts', 1400)\n",
    "my_hash_table.set_item('washers', 50)\n",
    "my_hash_table.set_item('lumber', 70)\n",
    "\n",
    "print(my_hash_table.keys())\n"
   ]
  },
  {
   "cell_type": "code",
   "execution_count": null,
   "id": "000e3048",
   "metadata": {},
   "outputs": [],
   "source": []
  }
 ],
 "metadata": {
  "kernelspec": {
   "display_name": "Python 3",
   "language": "python",
   "name": "python3"
  },
  "language_info": {
   "codemirror_mode": {
    "name": "ipython",
    "version": 3
   },
   "file_extension": ".py",
   "mimetype": "text/x-python",
   "name": "python",
   "nbconvert_exporter": "python",
   "pygments_lexer": "ipython3",
   "version": "3.8.8"
  }
 },
 "nbformat": 4,
 "nbformat_minor": 5
}
