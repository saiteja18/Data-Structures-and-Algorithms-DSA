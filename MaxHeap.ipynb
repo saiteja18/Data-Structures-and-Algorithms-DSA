{
 "cells": [
  {
   "cell_type": "code",
   "execution_count": 2,
   "id": "d7da0821",
   "metadata": {},
   "outputs": [
    {
     "name": "stdout",
     "output_type": "stream",
     "text": [
      "[95, 75, 80, 55, 60, 50, 65]\n",
      "[80, 75, 65, 55, 60, 50]\n",
      "[75, 60, 65, 55, 50]\n"
     ]
    }
   ],
   "source": [
    "class MaxHeap:\n",
    "    def __init__(self):\n",
    "        self.heap = []\n",
    "\n",
    "    def _left_child(self, index):\n",
    "        return 2 * index + 1\n",
    "\n",
    "    def _right_child(self, index):\n",
    "        return 2 * index + 2\n",
    "\n",
    "    def _parent(self, index):\n",
    "        return (index - 1) // 2\n",
    "\n",
    "    def _swap(self, index1, index2):\n",
    "        self.heap[index1], self.heap[index2] = self.heap[index2], self.heap[index1]\n",
    "\n",
    "    def insert(self, value):\n",
    "        self.heap.append(value)\n",
    "        current = len(self.heap) - 1\n",
    "\n",
    "        while current > 0 and self.heap[current] > self.heap[self._parent(current)]:\n",
    "            self._swap(current, self._parent(current))\n",
    "            current = self._parent(current)\n",
    "\n",
    "    def _sink_down(self, index):\n",
    "        # Move the element down the heap until it's in the correct position\n",
    "        max_index = index\n",
    "        while True:\n",
    "            left_index = self._left_child(index)\n",
    "            right_index = self._right_child(index)\n",
    " \n",
    "            if (left_index < len(self.heap) and \n",
    "                    self.heap[left_index] > self.heap[max_index]):\n",
    "                max_index = left_index\n",
    " \n",
    "            if (right_index < len(self.heap) and \n",
    "                    self.heap[right_index] > self.heap[max_index]):\n",
    "                max_index = right_index\n",
    " \n",
    "            if max_index != index:\n",
    "                self._swap(index, max_index)\n",
    "                index = max_index\n",
    "            else:\n",
    "                return\n",
    "\n",
    "    def remove(self):\n",
    "        if len(self.heap) == 0:\n",
    "            return None\n",
    "\n",
    "        if len(self.heap) == 1:\n",
    "            return self.heap.pop()\n",
    "\n",
    "        max_value = self.heap[0]\n",
    "        self.heap[0] = self.heap.pop()\n",
    "        self._sink_down(0)\n",
    "\n",
    "        return max_value\n",
    "\n",
    "myheap = MaxHeap()\n",
    "myheap.insert(95)\n",
    "myheap.insert(75)\n",
    "myheap.insert(80)\n",
    "myheap.insert(55)\n",
    "myheap.insert(60)\n",
    "myheap.insert(50)\n",
    "myheap.insert(65)\n",
    "\n",
    "print(myheap.heap)\n",
    "\n",
    "myheap.remove()\n",
    "\n",
    "print(myheap.heap)\n",
    "\n",
    "myheap.remove()\n",
    "\n",
    "print(myheap.heap)\n"
   ]
  },
  {
   "cell_type": "code",
   "execution_count": null,
   "id": "66daaf89",
   "metadata": {},
   "outputs": [],
   "source": []
  }
 ],
 "metadata": {
  "kernelspec": {
   "display_name": "Python 3",
   "language": "python",
   "name": "python3"
  },
  "language_info": {
   "codemirror_mode": {
    "name": "ipython",
    "version": 3
   },
   "file_extension": ".py",
   "mimetype": "text/x-python",
   "name": "python",
   "nbconvert_exporter": "python",
   "pygments_lexer": "ipython3",
   "version": "3.8.8"
  }
 },
 "nbformat": 4,
 "nbformat_minor": 5
}
