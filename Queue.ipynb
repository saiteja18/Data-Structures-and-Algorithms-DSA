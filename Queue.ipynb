{
 "cells": [
  {
   "cell_type": "code",
   "execution_count": 1,
   "id": "81d1a189",
   "metadata": {},
   "outputs": [
    {
     "name": "stdout",
     "output_type": "stream",
     "text": [
      "1\n",
      "2\n",
      "None\n"
     ]
    }
   ],
   "source": [
    "class Node:\n",
    "    def __init__(self, value):\n",
    "        # Initialize a node with a given value\n",
    "        self.value = value\n",
    "        # Pointer to the next node, initially set to None\n",
    "        self.next = None\n",
    "        \n",
    "\n",
    "class Queue:\n",
    "    def __init__(self, value):\n",
    "        # Create a new node with the given value\n",
    "        new_node = Node(value)\n",
    "        # Set both first and last pointers to the new node\n",
    "        self.first = new_node\n",
    "        self.last = new_node\n",
    "        # Initialize the length of the queue to 1\n",
    "        self.length = 1\n",
    "\n",
    "    def print_queue(self):\n",
    "        # Print all the values in the queue\n",
    "        temp = self.first\n",
    "        while temp is not None:\n",
    "            print(temp.value)\n",
    "            temp = temp.next\n",
    "        \n",
    "    def enqueue(self, value):\n",
    "        # Create a new node with the given value\n",
    "        new_node = Node(value)\n",
    "        if self.first is None:\n",
    "            # If the queue is empty, set both first and last to the new node\n",
    "            self.first = new_node\n",
    "            self.last = new_node\n",
    "        else:\n",
    "            # Append the new node after the current last and update last pointer\n",
    "            self.last.next = new_node\n",
    "            self.last = new_node\n",
    "        # Increment the length of the queue\n",
    "        self.length += 1\n",
    "        return True\n",
    "    \n",
    "    def dequeue(self):\n",
    "        # Check if the queue is empty\n",
    "        if self.length == 0:\n",
    "            return None\n",
    "        temp = self.first\n",
    "        if self.length == 1:\n",
    "            # If there's only one node, set both first and last to None\n",
    "            self.first = None\n",
    "            self.last = None\n",
    "        else:\n",
    "            # Remove the first node and update first pointer\n",
    "            self.first = self.first.next\n",
    "            temp.next = None\n",
    "        # Decrement the length of the queue\n",
    "        self.length -= 1\n",
    "        return temp\n",
    "\n",
    "# Test the Queue implementation\n",
    "my_queue = Queue(1)\n",
    "my_queue.enqueue(2)\n",
    "\n",
    "# (2) Items - Returns 2 Node\n",
    "print(my_queue.dequeue().value)\n",
    "# (1) Item -  Returns 1 Node\n",
    "print(my_queue.dequeue().value)\n",
    "# (0) Items - Returns None\n",
    "print(my_queue.dequeue())\n"
   ]
  },
  {
   "cell_type": "code",
   "execution_count": null,
   "id": "fcd8e8aa",
   "metadata": {},
   "outputs": [],
   "source": []
  }
 ],
 "metadata": {
  "kernelspec": {
   "display_name": "Python 3",
   "language": "python",
   "name": "python3"
  },
  "language_info": {
   "codemirror_mode": {
    "name": "ipython",
    "version": 3
   },
   "file_extension": ".py",
   "mimetype": "text/x-python",
   "name": "python",
   "nbconvert_exporter": "python",
   "pygments_lexer": "ipython3",
   "version": "3.8.8"
  }
 },
 "nbformat": 4,
 "nbformat_minor": 5
}
