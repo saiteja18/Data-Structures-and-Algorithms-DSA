{
 "cells": [
  {
   "cell_type": "code",
   "execution_count": 1,
   "id": "57e9e4a7",
   "metadata": {},
   "outputs": [
    {
     "name": "stdout",
     "output_type": "stream",
     "text": [
      "[47, 21, 76, 18, 27, 52, 82]\n"
     ]
    }
   ],
   "source": [
    "class Node:\n",
    "    def __init__(self, value):\n",
    "        self.value = value\n",
    "        self.left = None\n",
    "        self.right = None\n",
    "        \n",
    "\n",
    "class BinarySearchTree:\n",
    "    def __init__(self):\n",
    "        self.root = None\n",
    "\n",
    "    def insert(self, value):\n",
    "        new_node = Node(value)\n",
    "        if self.root is None:\n",
    "            self.root = new_node\n",
    "            return True\n",
    "        temp = self.root\n",
    "        while (True):\n",
    "            if new_node.value == temp.value:\n",
    "                return False\n",
    "            if new_node.value < temp.value:\n",
    "                if temp.left is None:\n",
    "                    temp.left = new_node\n",
    "                    return True\n",
    "                temp = temp.left\n",
    "            else: \n",
    "                if temp.right is None:\n",
    "                    temp.right = new_node\n",
    "                    return True\n",
    "                temp = temp.right\n",
    "\n",
    "    def contains(self, value):\n",
    "        if self.root is None:\n",
    "            return False\n",
    "        temp = self.root\n",
    "        while (temp):\n",
    "            if value < temp.value:\n",
    "                temp = temp.left\n",
    "            elif value > temp.value:\n",
    "                temp = temp.right\n",
    "            else:\n",
    "                return True\n",
    "        return False\n",
    "    \n",
    "    def BFS(self):\n",
    "        result = []\n",
    "        queue = []\n",
    "        if self.root:\n",
    "            queue.append(self.root)\n",
    "        while queue:\n",
    "            current_node = queue.pop(0)\n",
    "            result.append(current_node.value)\n",
    "            if current_node.left:\n",
    "                queue.append(current_node.left)\n",
    "            if current_node.right:\n",
    "                queue.append(current_node.right)\n",
    "        return result\n",
    "\n",
    "# Test the BinarySearchTree implementation with BFS\n",
    "my_tree = BinarySearchTree()\n",
    "my_tree.insert(47)\n",
    "my_tree.insert(21)\n",
    "my_tree.insert(76)\n",
    "my_tree.insert(18)\n",
    "my_tree.insert(27)\n",
    "my_tree.insert(52)\n",
    "my_tree.insert(82)\n",
    "\n",
    "# Test the BFS method\n",
    "print(my_tree.BFS())  # Output should be [47, 21, 76, 18, 27, 52, 82]\n"
   ]
  },
  {
   "cell_type": "code",
   "execution_count": null,
   "id": "eeb44b9b",
   "metadata": {},
   "outputs": [],
   "source": []
  }
 ],
 "metadata": {
  "kernelspec": {
   "display_name": "Python 3",
   "language": "python",
   "name": "python3"
  },
  "language_info": {
   "codemirror_mode": {
    "name": "ipython",
    "version": 3
   },
   "file_extension": ".py",
   "mimetype": "text/x-python",
   "name": "python",
   "nbconvert_exporter": "python",
   "pygments_lexer": "ipython3",
   "version": "3.8.8"
  }
 },
 "nbformat": 4,
 "nbformat_minor": 5
}
